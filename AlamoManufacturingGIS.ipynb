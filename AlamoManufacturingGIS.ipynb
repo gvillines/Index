{
 "cells": [
  {
   "cell_type": "code",
   "execution_count": 2,
   "id": "8ea3e822-2a76-4326-a42f-7e8421807cd0",
   "metadata": {},
   "outputs": [
    {
     "name": "stdout",
     "output_type": "stream",
     "text": [
      "Requirement already satisfied: pandas in c:\\users\\greg\\anaconda3\\lib\\site-packages (1.5.3)\n",
      "Requirement already satisfied: folium in c:\\users\\greg\\anaconda3\\lib\\site-packages (0.17.0)\n",
      "Requirement already satisfied: geopandas in c:\\users\\greg\\anaconda3\\lib\\site-packages (1.0.1)\n",
      "Requirement already satisfied: shapely in c:\\users\\greg\\anaconda3\\lib\\site-packages (2.0.6)\n",
      "Requirement already satisfied: python-dateutil>=2.8.1 in c:\\users\\greg\\anaconda3\\lib\\site-packages (from pandas) (2.8.2)\n",
      "Requirement already satisfied: pytz>=2020.1 in c:\\users\\greg\\anaconda3\\lib\\site-packages (from pandas) (2022.7)\n",
      "Requirement already satisfied: numpy>=1.21.0 in c:\\users\\greg\\anaconda3\\lib\\site-packages (from pandas) (1.24.3)\n",
      "Requirement already satisfied: branca>=0.6.0 in c:\\users\\greg\\anaconda3\\lib\\site-packages (from folium) (0.7.2)\n",
      "Requirement already satisfied: jinja2>=2.9 in c:\\users\\greg\\anaconda3\\lib\\site-packages (from folium) (3.1.2)\n",
      "Requirement already satisfied: requests in c:\\users\\greg\\anaconda3\\lib\\site-packages (from folium) (2.31.0)\n",
      "Requirement already satisfied: xyzservices in c:\\users\\greg\\anaconda3\\lib\\site-packages (from folium) (2022.9.0)\n",
      "Requirement already satisfied: pyogrio>=0.7.2 in c:\\users\\greg\\anaconda3\\lib\\site-packages (from geopandas) (0.9.0)\n",
      "Requirement already satisfied: packaging in c:\\users\\greg\\anaconda3\\lib\\site-packages (from geopandas) (23.0)\n",
      "Requirement already satisfied: pyproj>=3.3.0 in c:\\users\\greg\\anaconda3\\lib\\site-packages (from geopandas) (3.6.1)\n",
      "Requirement already satisfied: MarkupSafe>=2.0 in c:\\users\\greg\\anaconda3\\lib\\site-packages (from jinja2>=2.9->folium) (2.1.1)\n",
      "Requirement already satisfied: certifi in c:\\users\\greg\\anaconda3\\lib\\site-packages (from pyogrio>=0.7.2->geopandas) (2024.7.4)\n",
      "Requirement already satisfied: six>=1.5 in c:\\users\\greg\\anaconda3\\lib\\site-packages (from python-dateutil>=2.8.1->pandas) (1.16.0)\n",
      "Requirement already satisfied: charset-normalizer<4,>=2 in c:\\users\\greg\\anaconda3\\lib\\site-packages (from requests->folium) (2.0.4)\n",
      "Requirement already satisfied: idna<4,>=2.5 in c:\\users\\greg\\anaconda3\\lib\\site-packages (from requests->folium) (3.4)\n",
      "Requirement already satisfied: urllib3<3,>=1.21.1 in c:\\users\\greg\\anaconda3\\lib\\site-packages (from requests->folium) (1.26.19)\n",
      "Note: you may need to restart the kernel to use updated packages.\n"
     ]
    }
   ],
   "source": [
    "pip install pandas folium geopandas shapely\n"
   ]
  },
  {
   "cell_type": "code",
   "execution_count": 6,
   "id": "08d32dda-4c03-4ba3-91bd-2ea6bdcdb1be",
   "metadata": {},
   "outputs": [
    {
     "name": "stdout",
     "output_type": "stream",
     "text": [
      "Map with employers and school districts saved successfully!\n"
     ]
    }
   ],
   "source": [
    "import pandas as pd\n",
    "import geopandas as gpd\n",
    "import folium\n",
    "\n",
    "# Define file paths\n",
    "employer_file_path = r'C:\\Users\\Greg\\Desktop\\ManufacturingGEOproject\\county_district_lookup_with_geo_and_district.xlsx'\n",
    "shape_file_path = r'C:\\Users\\Greg\\Desktop\\ManufacturingGEOproject\\tl_2023_48_unsd.shp'\n",
    "\n",
    "# Load the employer data from the 'Employers' sheet in the Excel file\n",
    "df_employers = pd.read_excel(employer_file_path, sheet_name='Employers')\n",
    "\n",
    "# Load the school district shapefile\n",
    "gdf_districts = gpd.read_file(shape_file_path)\n",
    "\n",
    "# Initialize the map centered on the average employer location\n",
    "mymap = folium.Map(location=[df_employers['LAT'].mean(), df_employers['LON'].mean()], zoom_start=9)\n",
    "\n",
    "# Add markers for each employer\n",
    "for i, row in df_employers.iterrows():\n",
    "    folium.Marker(\n",
    "        [row['LAT'], row['LON']],\n",
    "        popup=f\"{row['Company']} - {row['Address']}\",\n",
    "        tooltip=row['Company']\n",
    "    ).add_to(mymap)\n",
    "\n",
    "# Overlay school district boundaries from the shapefile\n",
    "folium.GeoJson(gdf_districts, name=\"School Districts\").add_to(mymap)\n",
    "\n",
    "# Add layer control to toggle school districts\n",
    "folium.LayerControl().add_to(mymap)\n",
    "\n",
    "# Save the map to the specified path\n",
    "mymap.save(r'C:\\Users\\Greg\\Desktop\\ManufacturingGEOproject\\employer_school_map.html')\n",
    "\n",
    "print(\"Map with employers and school districts saved successfully!\")\n"
   ]
  },
  {
   "cell_type": "code",
   "execution_count": null,
   "id": "9329efa6-0ec5-4cf9-a887-f001eb3a5bdd",
   "metadata": {},
   "outputs": [],
   "source": []
  }
 ],
 "metadata": {
  "kernelspec": {
   "display_name": "Python 3 (ipykernel)",
   "language": "python",
   "name": "python3"
  },
  "language_info": {
   "codemirror_mode": {
    "name": "ipython",
    "version": 3
   },
   "file_extension": ".py",
   "mimetype": "text/x-python",
   "name": "python",
   "nbconvert_exporter": "python",
   "pygments_lexer": "ipython3",
   "version": "3.11.4"
  }
 },
 "nbformat": 4,
 "nbformat_minor": 5
}
